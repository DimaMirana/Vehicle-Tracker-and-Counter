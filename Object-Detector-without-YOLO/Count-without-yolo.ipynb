{
 "cells": [
  {
   "cell_type": "code",
   "execution_count": 1,
   "metadata": {},
   "outputs": [],
   "source": [
    "import cv2\n",
    "import numpy as np\n",
    "import vehicle\n",
    "import time"
   ]
  },
  {
   "cell_type": "code",
   "execution_count": 2,
   "metadata": {},
   "outputs": [],
   "source": [
    "cap = cv2.VideoCapture('test_data.mp4')\n",
    "video_width = int(cap.get(cv2.CAP_PROP_FRAME_WIDTH))\n",
    "video_height = int(cap.get(cv2.CAP_PROP_FRAME_HEIGHT))\n",
    "\n",
    "frame_area=video_width*video_height\n",
    "area_minimum=frame_area/400 #minimum area of a blob to be counted\n",
    "\n",
    "mid_end=int(4*(video_height/5)) #count blob after it cross (x, mid_end) \n",
    "down_limit=video_height\n",
    "\n",
    "#background substraction\n",
    "removedBackground=cv2.createBackgroundSubtractorMOG2() \n",
    "\n",
    "#initialization\n",
    "font = cv2.FONT_HERSHEY_SIMPLEX\n",
    "cars = []\n",
    "count_car = 0\n",
    "max_pointer_counter = 5\n",
    "pointerid = 0\n",
    "\n",
    "#kernel for opening and closing\n",
    "kernalOpen = np.ones((5,5),np.uint8)\n",
    "kernalClose = np.ones((11,11),np.uint8)\n",
    "\n",
    "while cap.isOpened():\n",
    "    ret,frame = cap.read();\n",
    "    \n",
    "    if ret == True:\n",
    "        #increase all the counted value of pre-detecting cars\n",
    "        for i in cars:\n",
    "            i.increment_value()\n",
    "            \n",
    "        # frame pre-processing\n",
    "        forground_mask=removedBackground.apply(frame)\n",
    "        _,image=cv2.threshold(forground_mask,200,255,cv2.THRESH_BINARY)\n",
    "        mask=cv2.morphologyEx(image,cv2.MORPH_OPEN,kernalOpen)\n",
    "        mask=cv2.morphologyEx(mask,cv2.MORPH_CLOSE,kernalClose)\n",
    "        _, countours,hierarchy=cv2.findContours(mask,cv2.RETR_EXTERNAL,cv2.CHAIN_APPROX_NONE)\n",
    "        \n",
    "        #loop over the detecting contours in each frame\n",
    "        for cnt in countours:\n",
    "            area=cv2.contourArea(cnt)\n",
    "            if area>area_minimum:\n",
    "                #if a countour have countable area get it's center point\n",
    "                m=cv2.moments(cnt)\n",
    "                cx=int(m['m10']/m['m00'])\n",
    "                cy=int(m['m01']/m['m00'])\n",
    "                x,y,w,h=cv2.boundingRect(cnt)\n",
    "\n",
    "                new=True\n",
    "                #if the y-axis of detected contour inside frame\n",
    "                if cy in range(down_limit):\n",
    "                    #loop over existing cars\n",
    "                    for i in cars:\n",
    "                        #if the car(x,y) have distance between the looping car then the center just forward not new blob\n",
    "                        if abs(x - i.getX()) <= w and abs(y - i.getY()) <= h: \n",
    "                            new = False\n",
    "                            #update pre existing center to it's new coordinate\n",
    "                            i.updateCoords(cx, cy)\n",
    "                            #after updating if it reach the detection line the car gets counted\n",
    "                            if i.moving(mid_end)==True:\n",
    "                                count_car+=1 \n",
    "                            break\n",
    "                        #if the state is '1' and y coor > detection line then the centoroid count complete\n",
    "                        if i.getState()=='1':\n",
    "                            if i.getY()>down_limit:\n",
    "                                i.setComplete()\n",
    "                        # if the center is counted the it gets emoved\n",
    "                        if i.timeOut():\n",
    "                            index=cars.index(i)\n",
    "                            cars.pop(index)\n",
    "                            del i\n",
    "\n",
    "                    #if nothing detected then register new coor in the array\n",
    "                    if new==True:\n",
    "                        pointer=vehicle.Car(pointerid,cx,cy,max_pointer_counter)\n",
    "                        cars.append(pointer)\n",
    "                        pointerid+=1\n",
    "\n",
    "                cv2.circle(frame,(cx,cy),5,(0,0,255),-1)\n",
    "                img=cv2.rectangle(frame,(x,y),(x+w,y+h),(0,255,0),2)\n",
    "                \n",
    "        str_counted='Vehicles: '+str(count_car)\n",
    "        cv2.line(frame, (0,int(mid_end)), (960,int(mid_end)), (255,127,0), 3) \n",
    "        cv2.putText(frame, str_counted, (10, 90), font, 4, (0, 255, 0), 2, cv2.LINE_AA)\n",
    "        cv2.imshow('Mask',mask)\n",
    "        cv2.imshow('Frame',frame)\n",
    "        \n",
    "        if (cv2.waitKey(10) & 0xFF == ord('q')):\n",
    "            break\n",
    "    else:\n",
    "        break\n",
    "        \n",
    "cap.release()\n",
    "cv2.destroyAllWindows()"
   ]
  },
  {
   "cell_type": "code",
   "execution_count": 3,
   "metadata": {},
   "outputs": [
    {
     "data": {
      "text/plain": [
       "20"
      ]
     },
     "execution_count": 3,
     "metadata": {},
     "output_type": "execute_result"
    }
   ],
   "source": [
    "count_car"
   ]
  },
  {
   "cell_type": "code",
   "execution_count": null,
   "metadata": {},
   "outputs": [],
   "source": []
  },
  {
   "cell_type": "code",
   "execution_count": null,
   "metadata": {},
   "outputs": [],
   "source": []
  }
 ],
 "metadata": {
  "kernelspec": {
   "display_name": "Python 3",
   "language": "python",
   "name": "python3"
  },
  "language_info": {
   "codemirror_mode": {
    "name": "ipython",
    "version": 3
   },
   "file_extension": ".py",
   "mimetype": "text/x-python",
   "name": "python",
   "nbconvert_exporter": "python",
   "pygments_lexer": "ipython3",
   "version": "3.6.6"
  }
 },
 "nbformat": 4,
 "nbformat_minor": 2
}
